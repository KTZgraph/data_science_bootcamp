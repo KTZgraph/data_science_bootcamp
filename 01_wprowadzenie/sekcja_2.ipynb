{
  "nbformat": 4,
  "nbformat_minor": 0,
  "metadata": {
    "colab": {
      "name": "sekcja_2.ipynb",
      "provenance": [],
      "collapsed_sections": [
        "bBvqcRniv8Ka",
        "AVMuAokOvHTI"
      ],
      "toc_visible": true,
      "authorship_tag": "ABX9TyPsEa0PR5Qr3k1SSoBeA5qb",
      "include_colab_link": true
    },
    "kernelspec": {
      "name": "python3",
      "display_name": "Python 3"
    },
    "language_info": {
      "name": "python"
    }
  },
  "cells": [
    {
      "cell_type": "markdown",
      "metadata": {
        "id": "view-in-github",
        "colab_type": "text"
      },
      "source": [
        "<a href=\"https://colab.research.google.com/github/pawlaczyk/data_science_bootcamp/blob/main/01_wprowadzenie/sekcja_2.ipynb\" target=\"_parent\"><img src=\"https://colab.research.google.com/assets/colab-badge.svg\" alt=\"Open In Colab\"/></a>"
      ]
    },
    {
      "cell_type": "code",
      "metadata": {
        "colab": {
          "base_uri": "https://localhost:8080/",
          "height": 35
        },
        "id": "DvQ0-33Ay082",
        "outputId": "38dfb77e-a567-43e7-aaa5-ef8fa367aa27"
      },
      "source": [
        "import numpy as np\n",
        "np.__version__"
      ],
      "execution_count": 2,
      "outputs": [
        {
          "output_type": "execute_result",
          "data": {
            "application/vnd.google.colaboratory.intrinsic+json": {
              "type": "string"
            },
            "text/plain": [
              "'1.19.5'"
            ]
          },
          "metadata": {
            "tags": []
          },
          "execution_count": 2
        }
      ]
    },
    {
      "cell_type": "markdown",
      "metadata": {
        "id": "bBvqcRniv8Ka"
      },
      "source": [
        "# 1. Tablice Numpy ndarray"
      ]
    },
    {
      "cell_type": "code",
      "metadata": {
        "id": "IBQB7aEb7t7V"
      },
      "source": [
        "# metody, atryubuty do wyboru\n",
        "dir(np)"
      ],
      "execution_count": null,
      "outputs": []
    },
    {
      "cell_type": "markdown",
      "metadata": {
        "id": "pJ9bSv4CvrTZ"
      },
      "source": [
        ""
      ]
    },
    {
      "cell_type": "code",
      "metadata": {
        "id": "0QK6bzPos5BK"
      },
      "source": [
        "# tworzenie tablic\n",
        "help(np.array)"
      ],
      "execution_count": null,
      "outputs": []
    },
    {
      "cell_type": "code",
      "metadata": {
        "colab": {
          "base_uri": "https://localhost:8080/"
        },
        "id": "wVvw8d0RtJEM",
        "outputId": "fc38ccda-cf97-4443-9175-7e6ddf2da1ce"
      },
      "source": [
        "one_dimensional_array = np.array([1, 3])\n",
        "one_dimensional_array"
      ],
      "execution_count": 6,
      "outputs": [
        {
          "output_type": "execute_result",
          "data": {
            "text/plain": [
              "array([1, 3])"
            ]
          },
          "metadata": {
            "tags": []
          },
          "execution_count": 6
        }
      ]
    },
    {
      "cell_type": "code",
      "metadata": {
        "colab": {
          "base_uri": "https://localhost:8080/"
        },
        "id": "yM_fQ37_tqBC",
        "outputId": "ea3ca047-a11d-465d-a9c6-ccba69fbdb51"
      },
      "source": [
        "type(one_dimensional_array)"
      ],
      "execution_count": 7,
      "outputs": [
        {
          "output_type": "execute_result",
          "data": {
            "text/plain": [
              "numpy.ndarray"
            ]
          },
          "metadata": {
            "tags": []
          },
          "execution_count": 7
        }
      ]
    },
    {
      "cell_type": "code",
      "metadata": {
        "colab": {
          "base_uri": "https://localhost:8080/"
        },
        "id": "srBNBz0Etvtg",
        "outputId": "3f5b6ad8-9fe8-4712-fa97-eadb9f1ccf69"
      },
      "source": [
        "one_dimensional_array.ndim"
      ],
      "execution_count": 8,
      "outputs": [
        {
          "output_type": "execute_result",
          "data": {
            "text/plain": [
              "1"
            ]
          },
          "metadata": {
            "tags": []
          },
          "execution_count": 8
        }
      ]
    },
    {
      "cell_type": "code",
      "metadata": {
        "colab": {
          "base_uri": "https://localhost:8080/"
        },
        "id": "KRU-JGRetxNf",
        "outputId": "8237742c-f2a4-4cc2-dcb6-bb23c073915b"
      },
      "source": [
        "one_dimensional_array.shape"
      ],
      "execution_count": 9,
      "outputs": [
        {
          "output_type": "execute_result",
          "data": {
            "text/plain": [
              "(2,)"
            ]
          },
          "metadata": {
            "tags": []
          },
          "execution_count": 9
        }
      ]
    },
    {
      "cell_type": "code",
      "metadata": {
        "colab": {
          "base_uri": "https://localhost:8080/"
        },
        "id": "gCyYQayltywX",
        "outputId": "673da655-82f5-486d-a020-fc071885b30e"
      },
      "source": [
        "one_dimensional_array.size"
      ],
      "execution_count": 10,
      "outputs": [
        {
          "output_type": "execute_result",
          "data": {
            "text/plain": [
              "2"
            ]
          },
          "metadata": {
            "tags": []
          },
          "execution_count": 10
        }
      ]
    },
    {
      "cell_type": "code",
      "metadata": {
        "colab": {
          "base_uri": "https://localhost:8080/"
        },
        "id": "DOlSOwUnt1av",
        "outputId": "0b425330-dc3f-426e-8f93-d7e5ea7bc34c"
      },
      "source": [
        "one_dimensional_array.dtype"
      ],
      "execution_count": 11,
      "outputs": [
        {
          "output_type": "execute_result",
          "data": {
            "text/plain": [
              "dtype('int64')"
            ]
          },
          "metadata": {
            "tags": []
          },
          "execution_count": 11
        }
      ]
    },
    {
      "cell_type": "code",
      "metadata": {
        "id": "q6yY5aPSt3G_"
      },
      "source": [
        "x2 = np.array([1.3, 2.3, 1.4])"
      ],
      "execution_count": 13,
      "outputs": []
    },
    {
      "cell_type": "code",
      "metadata": {
        "colab": {
          "base_uri": "https://localhost:8080/"
        },
        "id": "rvhRTAP6t_LJ",
        "outputId": "b53120c0-37ef-47c0-f635-e36ae327da33"
      },
      "source": [
        "x2"
      ],
      "execution_count": 15,
      "outputs": [
        {
          "output_type": "execute_result",
          "data": {
            "text/plain": [
              "array([1.3, 2.3, 1.4])"
            ]
          },
          "metadata": {
            "tags": []
          },
          "execution_count": 15
        }
      ]
    },
    {
      "cell_type": "code",
      "metadata": {
        "colab": {
          "base_uri": "https://localhost:8080/"
        },
        "id": "pg8wQp4gt5fg",
        "outputId": "4516836e-5d55-4c30-cdc9-d499198e5402"
      },
      "source": [
        "x2.dtype"
      ],
      "execution_count": 16,
      "outputs": [
        {
          "output_type": "execute_result",
          "data": {
            "text/plain": [
              "dtype('float64')"
            ]
          },
          "metadata": {
            "tags": []
          },
          "execution_count": 16
        }
      ]
    },
    {
      "cell_type": "markdown",
      "metadata": {
        "id": "AVMuAokOvHTI"
      },
      "source": [
        "##2D tablice"
      ]
    },
    {
      "cell_type": "code",
      "metadata": {
        "id": "iLJIJF9wuBSX"
      },
      "source": [
        "# do sieci neurponowych - wzne posługiwanie się wymiarami\n",
        "# wiele operacji mnozenie i dodawania - w systuacji gdy od zera tworyzmy sieci neuronowe samiw w bibliotece nupy\n",
        "d2 = np.array([[1, 2, 3], [4, 2, 1]])"
      ],
      "execution_count": 18,
      "outputs": []
    },
    {
      "cell_type": "code",
      "metadata": {
        "colab": {
          "base_uri": "https://localhost:8080/"
        },
        "id": "zFzEh7Hsu73p",
        "outputId": "5a0f1a4f-555d-40a7-aa50-e907235d3636"
      },
      "source": [
        "d"
      ],
      "execution_count": 21,
      "outputs": [
        {
          "output_type": "execute_result",
          "data": {
            "text/plain": [
              "array([[ 1,  2],\n",
              "       [-3,  1]])"
            ]
          },
          "metadata": {
            "tags": []
          },
          "execution_count": 21
        }
      ]
    },
    {
      "cell_type": "code",
      "metadata": {
        "id": "UUPY7F_2u9VY"
      },
      "source": [
        "d.ndim"
      ],
      "execution_count": null,
      "outputs": []
    },
    {
      "cell_type": "code",
      "metadata": {
        "colab": {
          "base_uri": "https://localhost:8080/"
        },
        "id": "4-pnrGrHvAdB",
        "outputId": "ac802c7d-bf04-485a-9ebb-f0161dd341f3"
      },
      "source": [
        "d.shape"
      ],
      "execution_count": 20,
      "outputs": [
        {
          "output_type": "execute_result",
          "data": {
            "text/plain": [
              "(2, 2)"
            ]
          },
          "metadata": {
            "tags": []
          },
          "execution_count": 20
        }
      ]
    },
    {
      "cell_type": "markdown",
      "metadata": {
        "id": "Oax3BvpfvQcZ"
      },
      "source": [
        "### 3D tablice"
      ]
    },
    {
      "cell_type": "code",
      "metadata": {
        "id": "2qxjBij2vTFw"
      },
      "source": [
        "# dla danych jak chociażby obraz\n",
        "e = np.array([\n",
        "    [[4, 3, 1],\n",
        "     [3, 2, 1]],\n",
        "\n",
        "    [[4, 1, 3],\n",
        "     [4, 2, 1]],\n",
        "\n",
        "    [[3, 2, 1],\n",
        "     [4, 3, 2]]\n",
        "])"
      ],
      "execution_count": 22,
      "outputs": []
    },
    {
      "cell_type": "code",
      "metadata": {
        "colab": {
          "base_uri": "https://localhost:8080/"
        },
        "id": "T2_3qPt4vb7B",
        "outputId": "faa68b5a-2d29-4c02-ccb0-55d12d53b45d"
      },
      "source": [
        "e"
      ],
      "execution_count": 23,
      "outputs": [
        {
          "output_type": "execute_result",
          "data": {
            "text/plain": [
              "array([[[4, 3, 1],\n",
              "        [3, 2, 1]],\n",
              "\n",
              "       [[4, 1, 3],\n",
              "        [4, 2, 1]],\n",
              "\n",
              "       [[3, 2, 1],\n",
              "        [4, 3, 2]]])"
            ]
          },
          "metadata": {
            "tags": []
          },
          "execution_count": 23
        }
      ]
    },
    {
      "cell_type": "code",
      "metadata": {
        "colab": {
          "base_uri": "https://localhost:8080/"
        },
        "id": "oPOziHW5vgXZ",
        "outputId": "8e6dca4f-3945-4824-cd3c-acc1e27eaca4"
      },
      "source": [
        "e.ndim"
      ],
      "execution_count": 24,
      "outputs": [
        {
          "output_type": "execute_result",
          "data": {
            "text/plain": [
              "3"
            ]
          },
          "metadata": {
            "tags": []
          },
          "execution_count": 24
        }
      ]
    },
    {
      "cell_type": "code",
      "metadata": {
        "colab": {
          "base_uri": "https://localhost:8080/"
        },
        "id": "KTQ-b99nvhsZ",
        "outputId": "53ee26d3-e1b8-44a2-85be-36e1ffe5fd40"
      },
      "source": [
        "e.shape"
      ],
      "execution_count": 25,
      "outputs": [
        {
          "output_type": "execute_result",
          "data": {
            "text/plain": [
              "(3, 2, 3)"
            ]
          },
          "metadata": {
            "tags": []
          },
          "execution_count": 25
        }
      ]
    },
    {
      "cell_type": "markdown",
      "metadata": {
        "id": "HDp6Ly0Ev1a7"
      },
      "source": [
        "# 2. Typy danych"
      ]
    },
    {
      "cell_type": "code",
      "metadata": {
        "id": "7jUC-Sisv5lh"
      },
      "source": [
        "A = np.array([1, 2, 3])"
      ],
      "execution_count": 26,
      "outputs": []
    },
    {
      "cell_type": "code",
      "metadata": {
        "colab": {
          "base_uri": "https://localhost:8080/"
        },
        "id": "55UclzaYwDaI",
        "outputId": "f05e689a-221b-4277-d7aa-2da14aae2e43"
      },
      "source": [
        "A.dtype"
      ],
      "execution_count": 27,
      "outputs": [
        {
          "output_type": "execute_result",
          "data": {
            "text/plain": [
              "dtype('int64')"
            ]
          },
          "metadata": {
            "tags": []
          },
          "execution_count": 27
        }
      ]
    },
    {
      "cell_type": "code",
      "metadata": {
        "colab": {
          "base_uri": "https://localhost:8080/"
        },
        "id": "sPzfajh-wHLh",
        "outputId": "56f5dbd9-123c-4f84-aabe-3e34dd3b0115"
      },
      "source": [
        "# nadawanie typu\n",
        "A = np.array([1, 2, 3], dtype='float')\n",
        "A.dtype"
      ],
      "execution_count": 28,
      "outputs": [
        {
          "output_type": "execute_result",
          "data": {
            "text/plain": [
              "dtype('float64')"
            ]
          },
          "metadata": {
            "tags": []
          },
          "execution_count": 28
        }
      ]
    },
    {
      "cell_type": "code",
      "metadata": {
        "colab": {
          "base_uri": "https://localhost:8080/"
        },
        "id": "KeawhrDQwK6y",
        "outputId": "5f688bef-d477-4f48-f0f8-e69bbb166d42"
      },
      "source": [
        "# mniej domyslne typu danych\n",
        "A = np.array([1, 2, 3], dtype='complex')\n",
        "A.dtype"
      ],
      "execution_count": 29,
      "outputs": [
        {
          "output_type": "stream",
          "text": [
            "complex128\n"
          ],
          "name": "stdout"
        }
      ]
    },
    {
      "cell_type": "code",
      "metadata": {
        "colab": {
          "base_uri": "https://localhost:8080/"
        },
        "id": "pKtNFlvWwOlh",
        "outputId": "bed3befc-6d60-47cc-93e0-497aa2b9833e"
      },
      "source": [
        "#OSTROWZNIE - skonwertuje na typ całkowikty ale tez zmieni wartości!\n",
        "A = np.array([1.0, 2.2, 3.3], dtype='int')\n",
        "A.dtype"
      ],
      "execution_count": 30,
      "outputs": [
        {
          "output_type": "execute_result",
          "data": {
            "text/plain": [
              "dtype('int64')"
            ]
          },
          "metadata": {
            "tags": []
          },
          "execution_count": 30
        }
      ]
    },
    {
      "cell_type": "code",
      "metadata": {
        "colab": {
          "base_uri": "https://localhost:8080/"
        },
        "id": "liMQ0uxzwXE7",
        "outputId": "b5b2e638-aee0-4f27-ac71-56dc13168d15"
      },
      "source": [
        "A"
      ],
      "execution_count": 31,
      "outputs": [
        {
          "output_type": "execute_result",
          "data": {
            "text/plain": [
              "array([1, 2, 3])"
            ]
          },
          "metadata": {
            "tags": []
          },
          "execution_count": 31
        }
      ]
    },
    {
      "cell_type": "code",
      "metadata": {
        "colab": {
          "base_uri": "https://localhost:8080/"
        },
        "id": "6TUXMY6GwZCp",
        "outputId": "bdf63873-1b4f-4ffe-829d-cfccb2c47eea"
      },
      "source": [
        "# typ danych bool logicznych\n",
        "A = np.array([True, False])\n",
        "A.dtype"
      ],
      "execution_count": 32,
      "outputs": [
        {
          "output_type": "execute_result",
          "data": {
            "text/plain": [
              "dtype('bool')"
            ]
          },
          "metadata": {
            "tags": []
          },
          "execution_count": 32
        }
      ]
    },
    {
      "cell_type": "code",
      "metadata": {
        "colab": {
          "base_uri": "https://localhost:8080/"
        },
        "id": "zjphxVQIwdgK",
        "outputId": "d65820dd-411d-402f-e6d1-c951430873d2"
      },
      "source": [
        "# typy danych z tablicy numpy - potrzebne np. gdy chcemy opisywać zdjecie, np piksel jak tablica numpy\n",
        "# nie chcemy by zajmowało to zbyt dużo miejsca\n",
        "A = np.array([24, 120, 230], dtype=np.int8)\n",
        "A.dtype"
      ],
      "execution_count": 33,
      "outputs": [
        {
          "output_type": "execute_result",
          "data": {
            "text/plain": [
              "dtype('int8')"
            ]
          },
          "metadata": {
            "tags": []
          },
          "execution_count": 33
        }
      ]
    },
    {
      "cell_type": "code",
      "metadata": {
        "id": "e3F1xL20wgMR"
      },
      "source": [
        "# częsciej używana się unsigned int\n",
        "A = np.array([24, 120, 230], dtype=np.uint8)\n",
        "A.dtype"
      ],
      "execution_count": null,
      "outputs": []
    },
    {
      "cell_type": "markdown",
      "metadata": {
        "id": "-aBWd5NDwpbK"
      },
      "source": [
        "# 3. Tworzenie ndarray"
      ]
    },
    {
      "cell_type": "code",
      "metadata": {
        "colab": {
          "base_uri": "https://localhost:8080/"
        },
        "id": "E9WdOi7ywu3S",
        "outputId": "526a8beb-ef7e-4610-e8ac-19e0311c5538"
      },
      "source": [
        "# Tworzenie tablic NumPy ndarray\n",
        "# wbudowane funckji, automaztyzacja tworzenia zaawansowanych tablic\n",
        "x = np.zeros(shape=(4, 10))\n",
        "x"
      ],
      "execution_count": 34,
      "outputs": [
        {
          "output_type": "execute_result",
          "data": {
            "text/plain": [
              "array([[0., 0., 0., 0., 0., 0., 0., 0., 0., 0.],\n",
              "       [0., 0., 0., 0., 0., 0., 0., 0., 0., 0.],\n",
              "       [0., 0., 0., 0., 0., 0., 0., 0., 0., 0.],\n",
              "       [0., 0., 0., 0., 0., 0., 0., 0., 0., 0.]])"
            ]
          },
          "metadata": {
            "tags": []
          },
          "execution_count": 34
        }
      ]
    },
    {
      "cell_type": "code",
      "metadata": {
        "id": "UK8iNoTkw5W5"
      },
      "source": [
        "# np. do masek do zdjeć\n",
        "x = np.zeros(shape=(4, 10), dtype=int)  # Liczby całkowite\n",
        "x.dtype"
      ],
      "execution_count": null,
      "outputs": []
    },
    {
      "cell_type": "code",
      "metadata": {
        "id": "aWxsVEBcw7ZB"
      },
      "source": [
        "# same jedynkji\n",
        "x = np.ones(shape=(5, 5))\n",
        "x = np.ones(shape=(5, 5), dtype=int)"
      ],
      "execution_count": 35,
      "outputs": []
    },
    {
      "cell_type": "code",
      "metadata": {
        "id": "I6LmhOduw9N5"
      },
      "source": [
        "# 3 bardziej uniwersalna metoda\n",
        "x = np.full(shape=(3, 3), fill_value=4, dtype=int)"
      ],
      "execution_count": null,
      "outputs": []
    },
    {
      "cell_type": "code",
      "metadata": {
        "colab": {
          "base_uri": "https://localhost:8080/"
        },
        "id": "IlInsX1aw96p",
        "outputId": "2c746940-8354-446d-ee6b-61a8fa93da55"
      },
      "source": [
        "# arrange - wygeneruje dane od 0 do 9 jak range w pythonie\n",
        "x = np.arange(10)\n",
        "x"
      ],
      "execution_count": 36,
      "outputs": [
        {
          "output_type": "execute_result",
          "data": {
            "text/plain": [
              "array([0, 1, 2, 3, 4, 5, 6, 7, 8, 9])"
            ]
          },
          "metadata": {
            "tags": []
          },
          "execution_count": 36
        }
      ]
    },
    {
      "cell_type": "code",
      "metadata": {
        "colab": {
          "base_uri": "https://localhost:8080/"
        },
        "id": "fQsQx1fzxBrp",
        "outputId": "62b60c92-5dac-4160-ab26-685d584d2db8"
      },
      "source": [
        "x = np.arange(start=5, stop=10)  # od do\n",
        "x"
      ],
      "execution_count": 37,
      "outputs": [
        {
          "output_type": "execute_result",
          "data": {
            "text/plain": [
              "array([5, 6, 7, 8, 9])"
            ]
          },
          "metadata": {
            "tags": []
          },
          "execution_count": 37
        }
      ]
    },
    {
      "cell_type": "code",
      "metadata": {
        "colab": {
          "base_uri": "https://localhost:8080/"
        },
        "id": "C9bYo0zkxFeR",
        "outputId": "a85fb109-b846-459c-8b9d-02da527e4e49"
      },
      "source": [
        "x = np.arange(start=5, stop=100, step=10)  # od do (bez 100) krok\n",
        "print(x) \n",
        "x"
      ],
      "execution_count": 39,
      "outputs": [
        {
          "output_type": "stream",
          "text": [
            "[ 5 15 25 35 45 55 65 75 85 95]\n"
          ],
          "name": "stdout"
        },
        {
          "output_type": "execute_result",
          "data": {
            "text/plain": [
              "array([ 5, 15, 25, 35, 45, 55, 65, 75, 85, 95])"
            ]
          },
          "metadata": {
            "tags": []
          },
          "execution_count": 39
        }
      ]
    },
    {
      "cell_type": "code",
      "metadata": {
        "colab": {
          "base_uri": "https://localhost:8080/"
        },
        "id": "EYpilkUUxLZZ",
        "outputId": "3e0a8f46-0ba5-4e97-d72d-0e8bbbcd8678"
      },
      "source": [
        "x = np.arange(start=100, stop=10, step=-10)  # od do krok ujemny\n",
        "print(x) \n",
        "x"
      ],
      "execution_count": 40,
      "outputs": [
        {
          "output_type": "stream",
          "text": [
            "[100  90  80  70  60  50  40  30  20]\n"
          ],
          "name": "stdout"
        },
        {
          "output_type": "execute_result",
          "data": {
            "text/plain": [
              "array([100,  90,  80,  70,  60,  50,  40,  30,  20])"
            ]
          },
          "metadata": {
            "tags": []
          },
          "execution_count": 40
        }
      ]
    },
    {
      "cell_type": "code",
      "metadata": {
        "colab": {
          "base_uri": "https://localhost:8080/"
        },
        "id": "_jmU7o8XxN6q",
        "outputId": "cb792d62-4700-48c5-9e0c-ed3cfa9d7011"
      },
      "source": [
        "x = np.arange(start=0, stop=1, step=0.05)\n",
        "print(x)\n",
        "x"
      ],
      "execution_count": 41,
      "outputs": [
        {
          "output_type": "stream",
          "text": [
            "[0.   0.05 0.1  0.15 0.2  0.25 0.3  0.35 0.4  0.45 0.5  0.55 0.6  0.65\n",
            " 0.7  0.75 0.8  0.85 0.9  0.95]\n"
          ],
          "name": "stdout"
        },
        {
          "output_type": "execute_result",
          "data": {
            "text/plain": [
              "array([0.  , 0.05, 0.1 , 0.15, 0.2 , 0.25, 0.3 , 0.35, 0.4 , 0.45, 0.5 ,\n",
              "       0.55, 0.6 , 0.65, 0.7 , 0.75, 0.8 , 0.85, 0.9 , 0.95])"
            ]
          },
          "metadata": {
            "tags": []
          },
          "execution_count": 41
        }
      ]
    },
    {
      "cell_type": "code",
      "metadata": {
        "colab": {
          "base_uri": "https://localhost:8080/"
        },
        "id": "dpbPV4QgxRfy",
        "outputId": "0e62cf1f-797b-4bb9-9b71-538b1be64b3a"
      },
      "source": [
        "# .linspace() podobne do arrange\n",
        "x = np.linspace(start=0, stop=1, num=1)  # ile elementów z tego przedziału które są ROWNO rozlozone\n",
        "x"
      ],
      "execution_count": 42,
      "outputs": [
        {
          "output_type": "execute_result",
          "data": {
            "text/plain": [
              "array([0.])"
            ]
          },
          "metadata": {
            "tags": []
          },
          "execution_count": 42
        }
      ]
    },
    {
      "cell_type": "code",
      "metadata": {
        "colab": {
          "base_uri": "https://localhost:8080/"
        },
        "id": "esCZh914xWHS",
        "outputId": "9d31922f-d1d6-4737-c2c2-b28137d7237e"
      },
      "source": [
        "# zmienianie kształtu danych\n",
        "A = np.arange(15)  # <0, 14>\n",
        "A.reshape(3, 5)  # iloczyn rozmiarów musi dac 115 - ilosc elemntów tablicy\n",
        "print(A) "
      ],
      "execution_count": 43,
      "outputs": [
        {
          "output_type": "stream",
          "text": [
            "[ 0  1  2  3  4  5  6  7  8  9 10 11 12 13 14]\n"
          ],
          "name": "stdout"
        }
      ]
    },
    {
      "cell_type": "code",
      "metadata": {
        "id": "0MEa8Ul1xXWl"
      },
      "source": [
        ""
      ],
      "execution_count": null,
      "outputs": []
    },
    {
      "cell_type": "code",
      "metadata": {
        "colab": {
          "base_uri": "https://localhost:8080/"
        },
        "id": "zJ1i7uv1xZK6",
        "outputId": "e9f3972d-c421-42d8-e526-d4211cca3768"
      },
      "source": [
        "# automatycznie niech liczy rozmiar\n",
        "print(A.reshape((3, -1))) # -1 python liczy rozmiar\n"
      ],
      "execution_count": 45,
      "outputs": [
        {
          "output_type": "stream",
          "text": [
            "[[ 0  1  2  3  4]\n",
            " [ 5  6  7  8  9]\n",
            " [10 11 12 13 14]]\n"
          ],
          "name": "stdout"
        }
      ]
    },
    {
      "cell_type": "code",
      "metadata": {
        "colab": {
          "base_uri": "https://localhost:8080/"
        },
        "id": "6A9uFXJXxffZ",
        "outputId": "d7f118d4-2c43-469f-ca32-1944509972bf"
      },
      "source": [
        "# automatycznie niech liczy rozmiar\n",
        "print(A.reshape((-1, 3)))"
      ],
      "execution_count": 46,
      "outputs": [
        {
          "output_type": "stream",
          "text": [
            "[[ 0  1  2]\n",
            " [ 3  4  5]\n",
            " [ 6  7  8]\n",
            " [ 9 10 11]\n",
            " [12 13 14]]\n"
          ],
          "name": "stdout"
        }
      ]
    },
    {
      "cell_type": "markdown",
      "metadata": {
        "id": "ISepjaAUxj2b"
      },
      "source": [
        "# 4. Podstawowe operacje na tablicach"
      ]
    },
    {
      "cell_type": "code",
      "metadata": {
        "colab": {
          "base_uri": "https://localhost:8080/"
        },
        "id": "-DWPJDfvx2F6",
        "outputId": "60036ee4-f886-4f3a-81fd-34447ef63803"
      },
      "source": [
        "A = np.array([3, 1, 4, 2])\n",
        "B = np.array([3, -1, 3, 2])\n",
        "print(A)\n",
        "print('*'*70)\n",
        "B"
      ],
      "execution_count": 49,
      "outputs": [
        {
          "output_type": "stream",
          "text": [
            "[3 1 4 2]\n",
            "**********************************************************************\n"
          ],
          "name": "stdout"
        },
        {
          "output_type": "execute_result",
          "data": {
            "text/plain": [
              "array([ 3, -1,  3,  2])"
            ]
          },
          "metadata": {
            "tags": []
          },
          "execution_count": 49
        }
      ]
    },
    {
      "cell_type": "code",
      "metadata": {
        "colab": {
          "base_uri": "https://localhost:8080/"
        },
        "id": "G23Bc6mByB37",
        "outputId": "009741aa-fd53-4426-e953-a38bf48b216a"
      },
      "source": [
        "# dodawanie tablic - rozmiar danych tablic musi sie zgadzac\n",
        "print(A + B)  # [6 0 7 4]\n",
        "\n",
        "print(A - B)  # [0 2 1 0]\n",
        "print(A * B)  # [ 9 -1 12  4]"
      ],
      "execution_count": 50,
      "outputs": [
        {
          "output_type": "stream",
          "text": [
            "[6 0 7 4]\n",
            "[0 2 1 0]\n",
            "[ 9 -1 12  4]\n"
          ],
          "name": "stdout"
        }
      ]
    },
    {
      "cell_type": "code",
      "metadata": {
        "colab": {
          "base_uri": "https://localhost:8080/"
        },
        "id": "ly-eYBityFcK",
        "outputId": "e9b069ea-9a1f-49a0-d036-7e9ee4c07e14"
      },
      "source": [
        "#dzielenie\n",
        "# B nie moze zawierać 0\n",
        "# przy dzieleniu ZAWSZE konwertuje wynik na float\n",
        "print(A / B)"
      ],
      "execution_count": 51,
      "outputs": [
        {
          "output_type": "stream",
          "text": [
            "[ 1.         -1.          1.33333333  1.        ]\n"
          ],
          "name": "stdout"
        }
      ]
    },
    {
      "cell_type": "code",
      "metadata": {
        "colab": {
          "base_uri": "https://localhost:8080/"
        },
        "id": "LnS1XN7ayKXD",
        "outputId": "715df67a-eee6-4602-e2ee-d2626fcafa02"
      },
      "source": [
        "# operacje podstawowe ale z numpy metody\n",
        "np.add(A, B)\n",
        "np.subtract(A, B)\n",
        "np.multiply(A, B)\n",
        "np.divide(A, B)"
      ],
      "execution_count": 52,
      "outputs": [
        {
          "output_type": "execute_result",
          "data": {
            "text/plain": [
              "array([ 1.        , -1.        ,  1.33333333,  1.        ])"
            ]
          },
          "metadata": {
            "tags": []
          },
          "execution_count": 52
        }
      ]
    },
    {
      "cell_type": "code",
      "metadata": {
        "colab": {
          "base_uri": "https://localhost:8080/"
        },
        "id": "5mem-dP9yMWU",
        "outputId": "c7578828-752e-4c12-c31d-8d32f73ee770"
      },
      "source": [
        "# dodanie stałej do tablicy\n",
        "print(A + 3)  # [6 4 7 5]\n",
        "print(2 * A)  #\n",
        "print(A / 3)  #\n",
        "print(A + 3 * B)  #"
      ],
      "execution_count": 53,
      "outputs": [
        {
          "output_type": "stream",
          "text": [
            "[6 4 7 5]\n",
            "[6 2 8 4]\n",
            "[1.         0.33333333 1.33333333 0.66666667]\n",
            "[12 -2 13  8]\n"
          ],
          "name": "stdout"
        }
      ]
    },
    {
      "cell_type": "code",
      "metadata": {
        "id": "JX2dDtkAyOfq"
      },
      "source": [
        "# STANDARDOWE mnożenie macierzowe ALGEBRA LINIOWA\n",
        "X = np.array([[1, 3], [-2, 0]])\n",
        "Y = np.array([[6, 0], [-1, 2]])"
      ],
      "execution_count": 56,
      "outputs": []
    },
    {
      "cell_type": "code",
      "metadata": {
        "colab": {
          "base_uri": "https://localhost:8080/"
        },
        "id": "6NKFfv3YyPCS",
        "outputId": "a83a7164-e53a-425f-9881-1548915c7ccd"
      },
      "source": [
        "# pomnoży elemnt po elemncie\n",
        "print(X * Y)  # NIE JEST TO MNMOZENIE Z ALGEBRY LINIOWEJ, mniozęnie macierzy nie jest przemienne"
      ],
      "execution_count": 57,
      "outputs": [
        {
          "output_type": "stream",
          "text": [
            "[[6 0]\n",
            " [2 0]]\n"
          ],
          "name": "stdout"
        }
      ]
    },
    {
      "cell_type": "code",
      "metadata": {
        "colab": {
          "base_uri": "https://localhost:8080/"
        },
        "id": "r39RxuaeyYUc",
        "outputId": "893ec8a6-de52-49ff-c61c-ecf916c93700"
      },
      "source": [
        "print(np.dot(X, Y))  # wiersz * kolumnas"
      ],
      "execution_count": 58,
      "outputs": [
        {
          "output_type": "stream",
          "text": [
            "[[  3   6]\n",
            " [-12   0]]\n"
          ],
          "name": "stdout"
        }
      ]
    },
    {
      "cell_type": "code",
      "metadata": {
        "colab": {
          "base_uri": "https://localhost:8080/"
        },
        "id": "XcnGh02tyYy6",
        "outputId": "00f8bdb4-0784-4c4a-d2b8-978fdff95fbb"
      },
      "source": [
        "print(X.dot(Y))"
      ],
      "execution_count": 59,
      "outputs": [
        {
          "output_type": "stream",
          "text": [
            "[[  3   6]\n",
            " [-12   0]]\n"
          ],
          "name": "stdout"
        }
      ]
    },
    {
      "cell_type": "code",
      "metadata": {
        "colab": {
          "base_uri": "https://localhost:8080/"
        },
        "id": "iLli8BJiyZsh",
        "outputId": "13b3e93b-d4e3-412f-f7e3-52c660678d1c"
      },
      "source": [
        "print(X @ Y) # symbol mnoiżenie macierzowe"
      ],
      "execution_count": 60,
      "outputs": [
        {
          "output_type": "stream",
          "text": [
            "[[  3   6]\n",
            " [-12   0]]\n"
          ],
          "name": "stdout"
        }
      ]
    },
    {
      "cell_type": "markdown",
      "metadata": {
        "id": "Xobze4Apydwt"
      },
      "source": [
        "# 5. generowanie liczb pseudolosowych"
      ]
    },
    {
      "cell_type": "code",
      "metadata": {
        "id": "jHRx6UsByaph"
      },
      "source": [
        "np.random.seed(0)"
      ],
      "execution_count": 61,
      "outputs": []
    },
    {
      "cell_type": "code",
      "metadata": {
        "colab": {
          "base_uri": "https://localhost:8080/"
        },
        "id": "aPGNhUEQyjzK",
        "outputId": "0bf85101-062d-4781-ac99-7e883b6e1c46"
      },
      "source": [
        "r = np.random.randn()  # losowy rozkład normalny\n",
        "print(r) "
      ],
      "execution_count": 62,
      "outputs": [
        {
          "output_type": "stream",
          "text": [
            "1.764052345967664\n"
          ],
          "name": "stdout"
        }
      ]
    },
    {
      "cell_type": "code",
      "metadata": {
        "colab": {
          "base_uri": "https://localhost:8080/"
        },
        "id": "ywD8MEZBymDK",
        "outputId": "7bb6cc71-1b69-4674-d633-5210e5efb66a"
      },
      "source": [
        "r = np.random.randn(10)  # 10 liczblosowy rozkład normalny\n",
        "print(r)"
      ],
      "execution_count": 63,
      "outputs": [
        {
          "output_type": "stream",
          "text": [
            "[ 0.40015721  0.97873798  2.2408932   1.86755799 -0.97727788  0.95008842\n",
            " -0.15135721 -0.10321885  0.4105985   0.14404357]\n"
          ],
          "name": "stdout"
        }
      ]
    },
    {
      "cell_type": "code",
      "metadata": {
        "colab": {
          "base_uri": "https://localhost:8080/"
        },
        "id": "NVu2twlxypFK",
        "outputId": "f7ee78a5-12e4-4f43-97bb-74988dcf48a9"
      },
      "source": [
        "# tablica z 10 wierszy i 4 kolumn, np do histogramów rozkładu normlanego\n",
        "r = np.random.randn(10, 4)  # przykłądowe dane dla histogramu\n",
        "print(r)"
      ],
      "execution_count": 64,
      "outputs": [
        {
          "output_type": "stream",
          "text": [
            "[[ 1.45427351  0.76103773  0.12167502  0.44386323]\n",
            " [ 0.33367433  1.49407907 -0.20515826  0.3130677 ]\n",
            " [-0.85409574 -2.55298982  0.6536186   0.8644362 ]\n",
            " [-0.74216502  2.26975462 -1.45436567  0.04575852]\n",
            " [-0.18718385  1.53277921  1.46935877  0.15494743]\n",
            " [ 0.37816252 -0.88778575 -1.98079647 -0.34791215]\n",
            " [ 0.15634897  1.23029068  1.20237985 -0.38732682]\n",
            " [-0.30230275 -1.04855297 -1.42001794 -1.70627019]\n",
            " [ 1.9507754  -0.50965218 -0.4380743  -1.25279536]\n",
            " [ 0.77749036 -1.61389785 -0.21274028 -0.89546656]]\n"
          ],
          "name": "stdout"
        }
      ]
    },
    {
      "cell_type": "code",
      "metadata": {
        "colab": {
          "base_uri": "https://localhost:8080/"
        },
        "id": "xlue_PCvyrji",
        "outputId": "451c55e0-0df6-47c8-a80a-00c6549dc8b2"
      },
      "source": [
        "# rozkład jednostajny na przedziale\n",
        "r = np.random.rand()\n",
        "print(r)"
      ],
      "execution_count": 65,
      "outputs": [
        {
          "output_type": "stream",
          "text": [
            "0.1965823616800535\n"
          ],
          "name": "stdout"
        }
      ]
    },
    {
      "cell_type": "code",
      "metadata": {
        "colab": {
          "base_uri": "https://localhost:8080/"
        },
        "id": "Pqjv3whzysv7",
        "outputId": "927c1c8b-8b57-4a78-96ab-ba1cd83647b9"
      },
      "source": [
        "r = np.random.rand(10, 2)\n",
        "print(r)"
      ],
      "execution_count": 66,
      "outputs": [
        {
          "output_type": "stream",
          "text": [
            "[[0.36872517 0.82099323]\n",
            " [0.09710128 0.83794491]\n",
            " [0.09609841 0.97645947]\n",
            " [0.4686512  0.97676109]\n",
            " [0.60484552 0.73926358]\n",
            " [0.03918779 0.28280696]\n",
            " [0.12019656 0.2961402 ]\n",
            " [0.11872772 0.31798318]\n",
            " [0.41426299 0.0641475 ]\n",
            " [0.69247212 0.56660145]]\n"
          ],
          "name": "stdout"
        }
      ]
    },
    {
      "cell_type": "code",
      "metadata": {
        "colab": {
          "base_uri": "https://localhost:8080/"
        },
        "id": "cNt3W1fBytJy",
        "outputId": "27f06d37-2ae8-4a94-f5eb-312cb51de0cc"
      },
      "source": [
        "r = np.random.randint(10)  # <0, 10)\n",
        "print(r)  # 1 losowy int"
      ],
      "execution_count": 67,
      "outputs": [
        {
          "output_type": "stream",
          "text": [
            "1\n"
          ],
          "name": "stdout"
        }
      ]
    },
    {
      "cell_type": "code",
      "metadata": {
        "id": "XAWgrzrkyvAC"
      },
      "source": [
        "r = np.random.randint(low=10, high=101, size=10)  # losowa liczba 2 cyfrowa, size = ile tych liczb\n"
      ],
      "execution_count": 68,
      "outputs": []
    },
    {
      "cell_type": "code",
      "metadata": {
        "id": "R-4AMakhyxmq"
      },
      "source": [
        "# .choice - losowy elemnt z interowalnego obiektu któy przekazemy\n",
        "r = np.random.choice([4, 2, 1, 3, 5])"
      ],
      "execution_count": 69,
      "outputs": []
    },
    {
      "cell_type": "code",
      "metadata": {
        "id": "o4zvZOiIyzs6"
      },
      "source": [
        "# dane tekstowe\n",
        "r = np.random.choice(['python', 'java', 'sql'])"
      ],
      "execution_count": 70,
      "outputs": []
    },
    {
      "cell_type": "code",
      "metadata": {
        "colab": {
          "base_uri": "https://localhost:8080/"
        },
        "id": "3Dq0HX69y2SK",
        "outputId": "bdf62fc9-613f-4e12-a3be-8bf5aa7da674"
      },
      "source": [
        "data = np.arange(10)\n",
        "print(data) "
      ],
      "execution_count": 71,
      "outputs": [
        {
          "output_type": "stream",
          "text": [
            "[0 1 2 3 4 5 6 7 8 9]\n"
          ],
          "name": "stdout"
        }
      ]
    },
    {
      "cell_type": "code",
      "metadata": {
        "colab": {
          "base_uri": "https://localhost:8080/"
        },
        "id": "8dFsYenSy37i",
        "outputId": "15b7a65c-9c4f-4fc5-cccc-df300c38a29c"
      },
      "source": [
        "# przetasowanie danych\n",
        "np.random.shuffle(data) # jako parametr obiekt który chcemy przetasowac\n",
        "# OD RAZU ZMIENIA DANE - NIEINTUCYJNE inaczej niż w bibliotece pandas\n",
        "print(data)"
      ],
      "execution_count": 72,
      "outputs": [
        {
          "output_type": "stream",
          "text": [
            "[5 1 4 2 9 7 6 8 0 3]\n"
          ],
          "name": "stdout"
        }
      ]
    },
    {
      "cell_type": "markdown",
      "metadata": {
        "id": "nU0CDyqmy6Zu"
      },
      "source": [
        "# 6. Podstawowe funckje"
      ]
    },
    {
      "cell_type": "code",
      "metadata": {
        "colab": {
          "base_uri": "https://localhost:8080/"
        },
        "id": "u4d4IS-Ly-lS",
        "outputId": "8d2b6b3a-547a-43da-dadb-0b15835e4fea"
      },
      "source": [
        "# exponent podstawowa funckja matematyczna - w uczeniu maszynowym czy sieciach neuronowych popularna\n",
        "np.exp(1)  # stała Eulera\n",
        "np.sqrt(9)  # pierwsiatke kwadaroawtowy - zawsze float"
      ],
      "execution_count": 73,
      "outputs": [
        {
          "output_type": "execute_result",
          "data": {
            "text/plain": [
              "3.0"
            ]
          },
          "metadata": {
            "tags": []
          },
          "execution_count": 73
        }
      ]
    },
    {
      "cell_type": "code",
      "metadata": {
        "colab": {
          "base_uri": "https://localhost:8080/"
        },
        "id": "2X2NtWXjzDT6",
        "outputId": "bcda612b-8c5d-47cb-ffae-5ed3c0752f15"
      },
      "source": [
        "# logiczne funckje\n",
        "# all przechodiz po każdym elmencie iterowalnym i bada czy dany elment zwraca true/false\n",
        "# jeśli którykolwiek lement jest false to zwraca false\n",
        "# sposób testowania danych\n",
        "np.all([2, 3, 4])  # True\n",
        "np.all([2, 3, 0])  # False"
      ],
      "execution_count": 74,
      "outputs": [
        {
          "output_type": "execute_result",
          "data": {
            "text/plain": [
              "False"
            ]
          },
          "metadata": {
            "tags": []
          },
          "execution_count": 74
        }
      ]
    },
    {
      "cell_type": "code",
      "metadata": {
        "colab": {
          "base_uri": "https://localhost:8080/"
        },
        "id": "gWBN-__RzEjK",
        "outputId": "0167aab7-a1e3-4c53-bbdc-b5e292bc66af"
      },
      "source": [
        "# .any sprawdza czy jakikolwiek obiek tjest prawdą\n",
        "# zastosowanie - czasem szukamy wiersza w którym wysepuje dana wartość\n",
        "np.any([0, 0, 0])  # False\n",
        "np.any([0, 1, 0])  # True"
      ],
      "execution_count": 75,
      "outputs": [
        {
          "output_type": "execute_result",
          "data": {
            "text/plain": [
              "True"
            ]
          },
          "metadata": {
            "tags": []
          },
          "execution_count": 75
        }
      ]
    },
    {
      "cell_type": "code",
      "metadata": {
        "colab": {
          "base_uri": "https://localhost:8080/"
        },
        "id": "LsUd5Kw7zF9a",
        "outputId": "5c54a521-69b7-49b9-b370-fcc1757759e6"
      },
      "source": [
        "bool(0)  # False\n",
        "bool(0.3)  # True"
      ],
      "execution_count": 79,
      "outputs": [
        {
          "output_type": "execute_result",
          "data": {
            "text/plain": [
              "True"
            ]
          },
          "metadata": {
            "tags": []
          },
          "execution_count": 79
        }
      ]
    },
    {
      "cell_type": "code",
      "metadata": {
        "colab": {
          "base_uri": "https://localhost:8080/"
        },
        "id": "8sLymvwyzGvS",
        "outputId": "58ed3fa8-38ab-4590-c9e1-35f718e0cfff"
      },
      "source": [
        "# ciekae funckje ze względów statystycznych\n",
        "A = np.random.rand(5)  # z rokładu jednostajengo (0.1)\n",
        "# np problem klasyfikacji mamy 5 klas, model zwrócił wartości prawdopodobieńst i cośbyśmy chcieli z tym dalej zrobić\n",
        "print(A)  \n",
        "print(np.argmax(A))  # indeks gdzie znajduej sie najwieszksza wartosc"
      ],
      "execution_count": 76,
      "outputs": [
        {
          "output_type": "stream",
          "text": [
            "[0.02010755 0.82894003 0.00469548 0.67781654 0.27000797]\n",
            "1\n"
          ],
          "name": "stdout"
        }
      ]
    },
    {
      "cell_type": "code",
      "metadata": {
        "id": "tnp9ExjHzOj6"
      },
      "source": [
        "# wycinanie elementu z tablicy\n",
        "m = A[np.argmax(A)]"
      ],
      "execution_count": 77,
      "outputs": []
    },
    {
      "cell_type": "code",
      "metadata": {
        "colab": {
          "base_uri": "https://localhost:8080/"
        },
        "id": "ORd6PeD8zO8L",
        "outputId": "1cf7cddc-c8ec-427b-c994-e81c75fdb811"
      },
      "source": [
        "# .argmin - anlogicznie  indeks z najwmniejszą wartością\n",
        "np.argmin(A)"
      ],
      "execution_count": 78,
      "outputs": [
        {
          "output_type": "execute_result",
          "data": {
            "text/plain": [
              "2"
            ]
          },
          "metadata": {
            "tags": []
          },
          "execution_count": 78
        }
      ]
    },
    {
      "cell_type": "code",
      "metadata": {
        "colab": {
          "base_uri": "https://localhost:8080/"
        },
        "id": "Glp1BIz5zQ0j",
        "outputId": "f24f46c2-f066-4804-f19c-e227b177dda8"
      },
      "source": [
        "# sortowanie - ale zqwraca INDEKSY w kolejnsoci\n",
        "# przydatne gdy mamy klasyfikację wieloklasową i chcemy zwrócić 2 albo 3 najbardziej prawdopodobne klasy\n",
        "print(np.argsort(A))# zwraca idensky w kolejnsoc gdzi eelemnty sa rosnące\n"
      ],
      "execution_count": 81,
      "outputs": [
        {
          "output_type": "stream",
          "text": [
            "[2 0 4 3 1]\n"
          ],
          "name": "stdout"
        }
      ]
    },
    {
      "cell_type": "code",
      "metadata": {
        "id": "9fz5LiJRzVKS"
      },
      "source": [
        "# czysto statystuczne\n",
        "np.max(A)  # wartosc"
      ],
      "execution_count": 81,
      "outputs": []
    },
    {
      "cell_type": "code",
      "metadata": {
        "colab": {
          "base_uri": "https://localhost:8080/"
        },
        "id": "gVK5X0wazYVq",
        "outputId": "346c1116-bba8-4d31-f114-d1db8699e66f"
      },
      "source": [
        "np.min(A)"
      ],
      "execution_count": 82,
      "outputs": [
        {
          "output_type": "execute_result",
          "data": {
            "text/plain": [
              "0.004695476192547066"
            ]
          },
          "metadata": {
            "tags": []
          },
          "execution_count": 82
        }
      ]
    },
    {
      "cell_type": "code",
      "metadata": {
        "colab": {
          "base_uri": "https://localhost:8080/"
        },
        "id": "80GvHzVSzZdi",
        "outputId": "2b4fcefa-091b-49bc-bb8b-fb327f286380"
      },
      "source": [
        "np.mean(A)  # średnia"
      ],
      "execution_count": 83,
      "outputs": [
        {
          "output_type": "execute_result",
          "data": {
            "text/plain": [
              "0.36031351231715975"
            ]
          },
          "metadata": {
            "tags": []
          },
          "execution_count": 83
        }
      ]
    },
    {
      "cell_type": "code",
      "metadata": {
        "colab": {
          "base_uri": "https://localhost:8080/"
        },
        "id": "6--oEXI4zbKy",
        "outputId": "d47bc8d9-f26b-4559-be7c-6945ddbbc5a7"
      },
      "source": [
        "np.median(A)  # mediana"
      ],
      "execution_count": 84,
      "outputs": [
        {
          "output_type": "execute_result",
          "data": {
            "text/plain": [
              "0.27000797319216485"
            ]
          },
          "metadata": {
            "tags": []
          },
          "execution_count": 84
        }
      ]
    },
    {
      "cell_type": "code",
      "metadata": {
        "colab": {
          "base_uri": "https://localhost:8080/"
        },
        "id": "_VGdipZDzcY5",
        "outputId": "92f888e5-4f75-4009-bd55-9ec52bc99389"
      },
      "source": [
        "np.std(A)  # odchylenie standardowe"
      ],
      "execution_count": 85,
      "outputs": [
        {
          "output_type": "execute_result",
          "data": {
            "text/plain": [
              "0.33786931210140275"
            ]
          },
          "metadata": {
            "tags": []
          },
          "execution_count": 85
        }
      ]
    },
    {
      "cell_type": "markdown",
      "metadata": {
        "id": "euYT3z68zgPP"
      },
      "source": [
        "# 7. Indeksowanie wycinanie tablic"
      ]
    },
    {
      "cell_type": "code",
      "metadata": {
        "colab": {
          "base_uri": "https://localhost:8080/"
        },
        "id": "6SynTtdBzln6",
        "outputId": "36a298d0-125d-437d-d75e-8da9bcb6b878"
      },
      "source": [
        "A = np.arange(20)\n",
        "print(A)"
      ],
      "execution_count": 86,
      "outputs": [
        {
          "output_type": "stream",
          "text": [
            "[ 0  1  2  3  4  5  6  7  8  9 10 11 12 13 14 15 16 17 18 19]\n"
          ],
          "name": "stdout"
        }
      ]
    },
    {
      "cell_type": "code",
      "metadata": {
        "colab": {
          "base_uri": "https://localhost:8080/"
        },
        "id": "0dohXDYAznjb",
        "outputId": "f2f435ca-bffb-437c-a468-cd79c028a640"
      },
      "source": [
        "# A[idx], A[start: stop], A[:stop], A[start:]\n",
        "print(A[0])  # 0"
      ],
      "execution_count": 87,
      "outputs": [
        {
          "output_type": "stream",
          "text": [
            "0\n"
          ],
          "name": "stdout"
        }
      ]
    },
    {
      "cell_type": "code",
      "metadata": {
        "colab": {
          "base_uri": "https://localhost:8080/"
        },
        "id": "BZFF0HHizqGb",
        "outputId": "b85d98f2-d51a-4454-e5ea-7b5ce597379f"
      },
      "source": [
        "print(A[5:10])  # [5 6 7 8 9]"
      ],
      "execution_count": 88,
      "outputs": [
        {
          "output_type": "stream",
          "text": [
            "[5 6 7 8 9]\n"
          ],
          "name": "stdout"
        }
      ]
    },
    {
      "cell_type": "code",
      "metadata": {
        "colab": {
          "base_uri": "https://localhost:8080/"
        },
        "id": "HG6aO0VbzrjO",
        "outputId": "708ef47f-1fb3-4d50-f8e7-b683c1adbcc7"
      },
      "source": [
        "print(A[:5])  # [0 1 2 3 4]"
      ],
      "execution_count": 89,
      "outputs": [
        {
          "output_type": "stream",
          "text": [
            "[0 1 2 3 4]\n"
          ],
          "name": "stdout"
        }
      ]
    },
    {
      "cell_type": "code",
      "metadata": {
        "colab": {
          "base_uri": "https://localhost:8080/"
        },
        "id": "PbPmKEbTzs6c",
        "outputId": "07cfb789-afc0-42e4-da84-0cc8d14e5468"
      },
      "source": [
        "print(A[8:])  # [ 8  9 10 11 12 13 14 15 16 17 18 19]"
      ],
      "execution_count": 90,
      "outputs": [
        {
          "output_type": "stream",
          "text": [
            "[ 8  9 10 11 12 13 14 15 16 17 18 19]\n"
          ],
          "name": "stdout"
        }
      ]
    },
    {
      "cell_type": "code",
      "metadata": {
        "colab": {
          "base_uri": "https://localhost:8080/"
        },
        "id": "9bR2dlOQzt2k",
        "outputId": "a9bc3694-e0b5-406d-df08-9c16519ad09d"
      },
      "source": [
        "print(A[-1])  # 19 ostatni element"
      ],
      "execution_count": 91,
      "outputs": [
        {
          "output_type": "stream",
          "text": [
            "19\n"
          ],
          "name": "stdout"
        }
      ]
    },
    {
      "cell_type": "code",
      "metadata": {
        "colab": {
          "base_uri": "https://localhost:8080/"
        },
        "id": "8xhyBCH4zvGC",
        "outputId": "9dfd2041-0b06-4e7f-8074-20be6cc583f1"
      },
      "source": [
        "# przekstałcenie\n",
        "A = A.reshape(4, 5)\n",
        "print(A)"
      ],
      "execution_count": 93,
      "outputs": [
        {
          "output_type": "stream",
          "text": [
            "[[ 0  1  2  3  4]\n",
            " [ 5  6  7  8  9]\n",
            " [10 11 12 13 14]\n",
            " [15 16 17 18 19]]\n"
          ],
          "name": "stdout"
        }
      ]
    },
    {
      "cell_type": "code",
      "metadata": {
        "colab": {
          "base_uri": "https://localhost:8080/"
        },
        "id": "N4msFrS4zwiy",
        "outputId": "10cf4d29-ee50-4019-a337-b62f40313433"
      },
      "source": [
        "# konkrenty wiersza\n",
        "print(A[0])  # pierwszy wiersz\n",
        "print(A[1])"
      ],
      "execution_count": 94,
      "outputs": [
        {
          "output_type": "stream",
          "text": [
            "[0 1 2 3 4]\n",
            "[5 6 7 8 9]\n"
          ],
          "name": "stdout"
        }
      ]
    },
    {
      "cell_type": "code",
      "metadata": {
        "colab": {
          "base_uri": "https://localhost:8080/"
        },
        "id": "idOs3dmYz1Ka",
        "outputId": "0083a500-40a0-4861-f02c-5b159bf5b729"
      },
      "source": [
        "# wycinanie kolumny\n",
        "print(A[:, 0])\n",
        "print(A[:, -2])  # przeodstatnia\n",
        "print(A[:, -1])\n"
      ],
      "execution_count": 95,
      "outputs": [
        {
          "output_type": "stream",
          "text": [
            "[ 0  5 10 15]\n",
            "[ 3  8 13 18]\n",
            "[ 4  9 14 19]\n"
          ],
          "name": "stdout"
        }
      ]
    },
    {
      "cell_type": "code",
      "metadata": {
        "colab": {
          "base_uri": "https://localhost:8080/"
        },
        "id": "m90CVreWz2-c",
        "outputId": "2ddd4233-240e-487e-d941-df081ee55c18"
      },
      "source": [
        "# konkrente położenie\n",
        "print(A[1, 1])  # 6\n",
        "print(A[1, 3])  # 8"
      ],
      "execution_count": 96,
      "outputs": [
        {
          "output_type": "stream",
          "text": [
            "6\n",
            "8\n"
          ],
          "name": "stdout"
        }
      ]
    },
    {
      "cell_type": "code",
      "metadata": {
        "colab": {
          "base_uri": "https://localhost:8080/"
        },
        "id": "E3klPodNz6ji",
        "outputId": "715cd443-48d4-47ad-b1e5-2e3cbfeb8836"
      },
      "source": [
        "# wyciannie fragmentu - środek tablicy\n",
        "print(A[1:3, 1:4])"
      ],
      "execution_count": 97,
      "outputs": [
        {
          "output_type": "stream",
          "text": [
            "[[ 6  7  8]\n",
            " [11 12 13]]\n"
          ],
          "name": "stdout"
        }
      ]
    },
    {
      "cell_type": "code",
      "metadata": {
        "colab": {
          "base_uri": "https://localhost:8080/"
        },
        "id": "qlaY82T2z8f8",
        "outputId": "34712bcb-6fc9-4b74-d5c2-937ea4341404"
      },
      "source": [
        "# przypisanie nowych wartości do tablicy\n",
        "print(A[1, 2])\n",
        "A[1, 2] = 14\n",
        "print(A)"
      ],
      "execution_count": 98,
      "outputs": [
        {
          "output_type": "stream",
          "text": [
            "7\n",
            "[[ 0  1  2  3  4]\n",
            " [ 5  6 14  8  9]\n",
            " [10 11 12 13 14]\n",
            " [15 16 17 18 19]]\n"
          ],
          "name": "stdout"
        }
      ]
    },
    {
      "cell_type": "markdown",
      "metadata": {
        "id": "Q23LufDRz_iP"
      },
      "source": [
        "# 8 Iteracja po tablicy"
      ]
    },
    {
      "cell_type": "code",
      "metadata": {
        "colab": {
          "base_uri": "https://localhost:8080/"
        },
        "id": "7clvdNB10DZS",
        "outputId": "862f1935-9dd4-4c96-8392-76702a339edc"
      },
      "source": [
        "A = np.arange(20)\n",
        "A = A.reshape(4, 5)\n",
        "print(A[1, 2])\n",
        "A[1, 2] = 14\n",
        "print(A)"
      ],
      "execution_count": 99,
      "outputs": [
        {
          "output_type": "stream",
          "text": [
            "7\n",
            "[[ 0  1  2  3  4]\n",
            " [ 5  6 14  8  9]\n",
            " [10 11 12 13 14]\n",
            " [15 16 17 18 19]]\n"
          ],
          "name": "stdout"
        }
      ]
    },
    {
      "cell_type": "code",
      "metadata": {
        "colab": {
          "base_uri": "https://localhost:8080/"
        },
        "id": "qrDnCNzT0GlC",
        "outputId": "5820f8a1-0db9-4e59-d6eb-5e2c2b7344ad"
      },
      "source": [
        "for row in A:\n",
        "    print(row)"
      ],
      "execution_count": 100,
      "outputs": [
        {
          "output_type": "stream",
          "text": [
            "[0 1 2 3 4]\n",
            "[ 5  6 14  8  9]\n",
            "[10 11 12 13 14]\n",
            "[15 16 17 18 19]\n"
          ],
          "name": "stdout"
        }
      ]
    },
    {
      "cell_type": "code",
      "metadata": {
        "colab": {
          "base_uri": "https://localhost:8080/"
        },
        "id": "u12IT43t0I-C",
        "outputId": "de9c6cfc-1639-400b-94bd-1939e056db0e"
      },
      "source": [
        "for row in A:\n",
        "    print(row[0])  # indeks zero z każdego wiersza\n"
      ],
      "execution_count": 101,
      "outputs": [
        {
          "output_type": "stream",
          "text": [
            "0\n",
            "5\n",
            "10\n",
            "15\n"
          ],
          "name": "stdout"
        }
      ]
    },
    {
      "cell_type": "code",
      "metadata": {
        "colab": {
          "base_uri": "https://localhost:8080/"
        },
        "id": "25WUBc6h0KNr",
        "outputId": "c5569c09-0c34-4132-ec6f-f4be1f67f76d"
      },
      "source": [
        "for row in A:\n",
        "    print(row[:3])  # trzy peirwsze lementy"
      ],
      "execution_count": 102,
      "outputs": [
        {
          "output_type": "stream",
          "text": [
            "[0 1 2]\n",
            "[ 5  6 14]\n",
            "[10 11 12]\n",
            "[15 16 17]\n"
          ],
          "name": "stdout"
        }
      ]
    },
    {
      "cell_type": "code",
      "metadata": {
        "colab": {
          "base_uri": "https://localhost:8080/"
        },
        "id": "lQ1iSEX30LnC",
        "outputId": "e1f0875f-2dd3-4a58-fc56-1f0c347d809e"
      },
      "source": [
        "# .flat - wypłaszczenie tablicy\n",
        "for item in A.flat:\n",
        "    print(item)"
      ],
      "execution_count": 103,
      "outputs": [
        {
          "output_type": "stream",
          "text": [
            "0\n",
            "1\n",
            "2\n",
            "3\n",
            "4\n",
            "5\n",
            "6\n",
            "14\n",
            "8\n",
            "9\n",
            "10\n",
            "11\n",
            "12\n",
            "13\n",
            "14\n",
            "15\n",
            "16\n",
            "17\n",
            "18\n",
            "19\n"
          ],
          "name": "stdout"
        }
      ]
    },
    {
      "cell_type": "code",
      "metadata": {
        "colab": {
          "base_uri": "https://localhost:8080/"
        },
        "id": "t2ZFCtWm0NhC",
        "outputId": "d09e8975-7472-44c5-d8df-53ddde83586b"
      },
      "source": [
        "# Zmiana rozmairu tablicy\n",
        "print(A.shape)"
      ],
      "execution_count": 104,
      "outputs": [
        {
          "output_type": "stream",
          "text": [
            "(4, 5)\n"
          ],
          "name": "stdout"
        }
      ]
    },
    {
      "cell_type": "code",
      "metadata": {
        "colab": {
          "base_uri": "https://localhost:8080/"
        },
        "id": "ZKHaRfBp0N5q",
        "outputId": "72c089c5-46ca-41f7-bd1e-a59c2655f2c3"
      },
      "source": [
        "A.reshape(5, 4)"
      ],
      "execution_count": 106,
      "outputs": [
        {
          "output_type": "execute_result",
          "data": {
            "text/plain": [
              "array([[ 0,  1,  2,  3],\n",
              "       [ 4,  5,  6, 14],\n",
              "       [ 8,  9, 10, 11],\n",
              "       [12, 13, 14, 15],\n",
              "       [16, 17, 18, 19]])"
            ]
          },
          "metadata": {
            "tags": []
          },
          "execution_count": 106
        }
      ]
    },
    {
      "cell_type": "code",
      "metadata": {
        "colab": {
          "base_uri": "https://localhost:8080/"
        },
        "id": "PR1ffWE10QRd",
        "outputId": "26313cac-4053-4f26-ea7d-7fb384bbb2d3"
      },
      "source": [
        "# WYPLASZCZENIE DANYCH do 1D- odwrotna do operacji reshape\n",
        "print(A.ravel())"
      ],
      "execution_count": 105,
      "outputs": [
        {
          "output_type": "stream",
          "text": [
            "[ 0  1  2  3  4  5  6 14  8  9 10 11 12 13 14 15 16 17 18 19]\n"
          ],
          "name": "stdout"
        }
      ]
    },
    {
      "cell_type": "code",
      "metadata": {
        "colab": {
          "base_uri": "https://localhost:8080/"
        },
        "id": "GjrgvFNf0Rp7",
        "outputId": "b536229b-e88b-4813-ffa5-811374ff060e"
      },
      "source": [
        "# transponowanie tablicy tak samo jak macierzy\n",
        "print(A.T)  # zamienia kolumny na wiereze"
      ],
      "execution_count": 107,
      "outputs": [
        {
          "output_type": "stream",
          "text": [
            "[[ 0  5 10 15]\n",
            " [ 1  6 11 16]\n",
            " [ 2 14 12 17]\n",
            " [ 3  8 13 18]\n",
            " [ 4  9 14 19]]\n"
          ],
          "name": "stdout"
        }
      ]
    },
    {
      "cell_type": "markdown",
      "metadata": {
        "id": "Da0dIqJz0U8D"
      },
      "source": [
        "MASKI LOGICZNE"
      ]
    },
    {
      "cell_type": "code",
      "metadata": {
        "colab": {
          "base_uri": "https://localhost:8080/"
        },
        "id": "VagCg_de0W4j",
        "outputId": "e292331c-5d1f-4ecf-95b6-2eeeac0243bf"
      },
      "source": [
        "# maski logiczne\n",
        "M = np.arange(start=-10, stop=10, step=0.5)\n",
        "M = M.reshape(10, -1)  # 0 wieerszy\n",
        "print(M)"
      ],
      "execution_count": 108,
      "outputs": [
        {
          "output_type": "stream",
          "text": [
            "[[-10.   -9.5  -9.   -8.5]\n",
            " [ -8.   -7.5  -7.   -6.5]\n",
            " [ -6.   -5.5  -5.   -4.5]\n",
            " [ -4.   -3.5  -3.   -2.5]\n",
            " [ -2.   -1.5  -1.   -0.5]\n",
            " [  0.    0.5   1.    1.5]\n",
            " [  2.    2.5   3.    3.5]\n",
            " [  4.    4.5   5.    5.5]\n",
            " [  6.    6.5   7.    7.5]\n",
            " [  8.    8.5   9.    9.5]]\n"
          ],
          "name": "stdout"
        }
      ]
    },
    {
      "cell_type": "code",
      "metadata": {
        "colab": {
          "base_uri": "https://localhost:8080/"
        },
        "id": "qWMVDlSZ0a5j",
        "outputId": "81ee43aa-66f2-4707-c36b-c665d571271f"
      },
      "source": [
        "#  zastosowanie - chcemy się dowiedziec w których miejscach mamy wartości ujemne\n",
        "print(M > 0)"
      ],
      "execution_count": 110,
      "outputs": [
        {
          "output_type": "stream",
          "text": [
            "[[False False False False]\n",
            " [False False False False]\n",
            " [False False False False]\n",
            " [False False False False]\n",
            " [False False False False]\n",
            " [False  True  True  True]\n",
            " [ True  True  True  True]\n",
            " [ True  True  True  True]\n",
            " [ True  True  True  True]\n",
            " [ True  True  True  True]]\n"
          ],
          "name": "stdout"
        }
      ]
    },
    {
      "cell_type": "code",
      "metadata": {
        "colab": {
          "base_uri": "https://localhost:8080/"
        },
        "id": "kpYYCpc50c3-",
        "outputId": "282cd630-3081-4893-e1c7-4987d9a398d7"
      },
      "source": [
        "# dzięki masce jesteśmy w stanie wyciać dane który nas interesują\n",
        "print(M[M > 0])"
      ],
      "execution_count": 112,
      "outputs": [
        {
          "output_type": "stream",
          "text": [
            "[0.5 1.  1.5 2.  2.5 3.  3.5 4.  4.5 5.  5.5 6.  6.5 7.  7.5 8.  8.5 9.\n",
            " 9.5]\n"
          ],
          "name": "stdout"
        }
      ]
    },
    {
      "cell_type": "code",
      "metadata": {
        "id": "rZxWSyx00bSj"
      },
      "source": [
        "# mozna łaczyć dwa warunki  - np konkrenty przedział\n",
        "# tak zasotosować And nie można\n",
        "# print(M[M > 5 and M < 5]) # ValueError: The truth value of an array with more than one element is ambiguous. Use a.any() or a.all()\n"
      ],
      "execution_count": 114,
      "outputs": []
    },
    {
      "cell_type": "code",
      "metadata": {
        "colab": {
          "base_uri": "https://localhost:8080/"
        },
        "id": "gA42ytAd0kAz",
        "outputId": "6d63c044-c4c2-41eb-fdca-811626fb7509"
      },
      "source": [
        "print(np.bitwise_and(M > -5, M < 5))"
      ],
      "execution_count": 115,
      "outputs": [
        {
          "output_type": "stream",
          "text": [
            "[[False False False False]\n",
            " [False False False False]\n",
            " [False False False  True]\n",
            " [ True  True  True  True]\n",
            " [ True  True  True  True]\n",
            " [ True  True  True  True]\n",
            " [ True  True  True  True]\n",
            " [ True  True False False]\n",
            " [False False False False]\n",
            " [False False False False]]\n"
          ],
          "name": "stdout"
        }
      ]
    },
    {
      "cell_type": "code",
      "metadata": {
        "colab": {
          "base_uri": "https://localhost:8080/"
        },
        "id": "fOEeT3_70pma",
        "outputId": "b2465fb2-194b-4d2f-c25e-935d4ede9c01"
      },
      "source": [
        "print(M[np.bitwise_and(M > -5, M < 5)])  # Wycinanie elemntów które spełniają warunki"
      ],
      "execution_count": 116,
      "outputs": [
        {
          "output_type": "stream",
          "text": [
            "[-4.5 -4.  -3.5 -3.  -2.5 -2.  -1.5 -1.  -0.5  0.   0.5  1.   1.5  2.\n",
            "  2.5  3.   3.5  4.   4.5]\n"
          ],
          "name": "stdout"
        }
      ]
    },
    {
      "cell_type": "code",
      "metadata": {
        "colab": {
          "base_uri": "https://localhost:8080/"
        },
        "id": "vTnSFBoR0rNa",
        "outputId": "0eb8bc67-fe55-4185-fd48-4b014d220e7f"
      },
      "source": [
        "print(np.bitwise_or(M < -5, M > 5)) # maska"
      ],
      "execution_count": 117,
      "outputs": [
        {
          "output_type": "stream",
          "text": [
            "[[ True  True  True  True]\n",
            " [ True  True  True  True]\n",
            " [ True  True False False]\n",
            " [False False False False]\n",
            " [False False False False]\n",
            " [False False False False]\n",
            " [False False False False]\n",
            " [False False False  True]\n",
            " [ True  True  True  True]\n",
            " [ True  True  True  True]]\n"
          ],
          "name": "stdout"
        }
      ]
    },
    {
      "cell_type": "code",
      "metadata": {
        "colab": {
          "base_uri": "https://localhost:8080/"
        },
        "id": "axH0SvIn0s6r",
        "outputId": "c4f4ebc3-7f5e-487d-ba67-103bda7018df"
      },
      "source": [
        "print(M[np.bitwise_or(M < -5, M > 5)]) # maska"
      ],
      "execution_count": 118,
      "outputs": [
        {
          "output_type": "stream",
          "text": [
            "[-10.   -9.5  -9.   -8.5  -8.   -7.5  -7.   -6.5  -6.   -5.5   5.5   6.\n",
            "   6.5   7.    7.5   8.    8.5   9.    9.5]\n"
          ],
          "name": "stdout"
        }
      ]
    }
  ]
}